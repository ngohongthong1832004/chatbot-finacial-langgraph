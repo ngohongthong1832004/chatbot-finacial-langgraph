{
 "cells": [
  {
   "cell_type": "code",
   "execution_count": null,
   "id": "dc87deef",
   "metadata": {},
   "outputs": [],
   "source": [
    "# !pip install pdfplumber"
   ]
  },
  {
   "cell_type": "code",
   "execution_count": 3,
   "id": "bfcda9c0",
   "metadata": {},
   "outputs": [
    {
     "name": "stdout",
     "output_type": "stream",
     "text": [
      "\n",
      "📊 Báo Cáo Kết Quả Kinh Doanh - Apple (FY24 Q1):\n",
      "\n",
      "Net Sales - Products: 96,458\n",
      "Net Sales - Services: 23,117\n",
      "Total Net Sales: 1\n",
      "Cost of Sales - Products: 58,440\n",
      "Cost of Sales - Services: 23,117\n",
      "Total Cost of Sales: 64,720\n",
      "Gross Margin: 54,855\n",
      "R&D Expense: 7,696\n",
      "SG&A Expense: 6,786\n",
      "Total Operating Expense: 14,482\n",
      "Operating Income: 40,373\n",
      "Other Income: 50\n",
      "Income Before Tax: 40,323\n",
      "Income Tax: 6,407\n",
      "Net Income: 33,916\n",
      "EPS Basic: None\n",
      "EPS Diluted: 15\n",
      "Shares Basic: 15,509,763\n",
      "Shares Diluted: 15,576,641\n"
     ]
    }
   ],
   "source": [
    "import pdfplumber\n",
    "import re\n",
    "\n",
    "def extract_income_data(text):\n",
    "    def find_number(pattern):\n",
    "        match = re.search(pattern, text)\n",
    "        return float(match.group(1).replace(',', '')) if match else None\n",
    "\n",
    "    data = {\n",
    "        \"Net Sales - Products\": find_number(r\"Products\\s+!?\\s*([\\d,]+)\"),\n",
    "        \"Net Sales - Services\": find_number(r\"Services\\s+([\\d,]+)\"),\n",
    "        \"Total Net Sales\": find_number(r\"Total net sales.*?([\\d,]+)\"),\n",
    "        \"Cost of Sales - Products\": find_number(r\"Cost of sales:\\s+Products\\s+([\\d,]+)\"),\n",
    "        \"Cost of Sales - Services\": find_number(r\"Services\\s+([\\d,]+)\"),\n",
    "        \"Total Cost of Sales\": find_number(r\"Total cost of sales\\s+([\\d,]+)\"),\n",
    "        \"Gross Margin\": find_number(r\"Gross margin\\s+([\\d,]+)\"),\n",
    "        \"R&D Expense\": find_number(r\"Research and development\\s+([\\d,]+)\"),\n",
    "        \"SG&A Expense\": find_number(r\"Selling, general and administrative\\s+([\\d,]+)\"),\n",
    "        \"Total Operating Expense\": find_number(r\"Total operating expenses\\s+([\\d,]+)\"),\n",
    "        \"Operating Income\": find_number(r\"Operating income\\s+([\\d,]+)\"),\n",
    "        \"Other Income\": find_number(r\"Other income/\\(expense\\), net\\s+\\(?-?([\\d,]+)\"),\n",
    "        \"Income Before Tax\": find_number(r\"Income before provision for income taxes\\s+([\\d,]+)\"),\n",
    "        \"Income Tax\": find_number(r\"Provision for income taxes\\s+([\\d,]+)\"),\n",
    "        \"Net Income\": find_number(r\"Net income\\s+!?([\\d,]+)\"),\n",
    "        \"EPS Basic\": find_number(r\"Earnings per share:.*?Basic\\s+!?([\\d\\.]+)\"),\n",
    "        \"EPS Diluted\": find_number(r\"Diluted\\s+!?([\\d\\.]+)\"),\n",
    "        \"Shares Basic\": find_number(r\"Shares used in computing earnings per share:\\s+Basic\\s+([\\d,]+)\"),\n",
    "        \"Shares Diluted\": find_number(r\"Diluted\\s+([\\d,]+)\")\n",
    "    }\n",
    "\n",
    "    return data\n",
    "\n",
    "def main():\n",
    "    with pdfplumber.open(\"./data/finacial statements/FY24_Q1_Consolidated_Financial_Statements.pdf\") as pdf:\n",
    "        text = \"\"\n",
    "        for page in pdf.pages:\n",
    "            text += page.extract_text() + \"\\n\"\n",
    "\n",
    "    income_data = extract_income_data(text)\n",
    "\n",
    "    print(\"\\n📊 Báo Cáo Kết Quả Kinh Doanh - Apple (FY24 Q1):\\n\")\n",
    "    for k, v in income_data.items():\n",
    "        print(f\"{k}: {v:,.0f}\" if isinstance(v, float) else f\"{k}: {v}\")\n",
    "\n",
    "if __name__ == \"__main__\":\n",
    "    main()\n"
   ]
  },
  {
   "cell_type": "code",
   "execution_count": null,
   "id": "63b3d518",
   "metadata": {},
   "outputs": [],
   "source": []
  }
 ],
 "metadata": {
  "kernelspec": {
   "display_name": ".venv",
   "language": "python",
   "name": "python3"
  },
  "language_info": {
   "codemirror_mode": {
    "name": "ipython",
    "version": 3
   },
   "file_extension": ".py",
   "mimetype": "text/x-python",
   "name": "python",
   "nbconvert_exporter": "python",
   "pygments_lexer": "ipython3",
   "version": "3.10.11"
  }
 },
 "nbformat": 4,
 "nbformat_minor": 5
}
