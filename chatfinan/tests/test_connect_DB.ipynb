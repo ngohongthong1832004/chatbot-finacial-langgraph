{
 "cells": [
  {
   "cell_type": "code",
   "execution_count": 1,
   "id": "4fb0465e",
   "metadata": {},
   "outputs": [
    {
     "name": "stdout",
     "output_type": "stream",
     "text": [
      "✅ Kết nối thành công đến PostgreSQL!\n",
      "📊 Dữ liệu từ bảng stocks: [('03/27/2024', 173.31, 170.3, 173.58, 170.14, '59.11M', '2.12%'), ('03/26/2024', 169.71, 170.01, 171.41, 169.65, '57.22M', '-0.67%'), ('03/25/2024', 170.85, 170.37, 171.94, 169.46, '54.21M', '-0.83%'), ('03/22/2024', 172.28, 171.76, 173.05, 170.06, '71.16M', '0.53%'), ('03/21/2024', 171.37, 177.05, 177.49, 170.84, '106.18M', '-4.09%'), ('03/20/2024', 178.67, 175.72, 178.67, 175.09, '52.41M', '1.47%'), ('03/19/2024', 176.08, 174.34, 176.6, 173.03, '54.85M', '1.36%'), ('03/18/2024', 173.72, 175.57, 177.71, 173.52, '75.08M', '0.64%'), ('03/15/2024', 172.62, 171.17, 172.62, 170.29, '119.99M', '-0.22%'), ('03/14/2024', 173.0, 172.91, 174.31, 172.05, '72.57M', '1.09%')]\n",
      "📦 PostgreSQL Version: PostgreSQL 15.8 on aarch64-unknown-linux-gnu, compiled by gcc (GCC) 13.2.0, 64-bit\n"
     ]
    }
   ],
   "source": [
    "import psycopg2\n",
    "import os\n",
    "from dotenv import load_dotenv\n",
    "\n",
    "# Load biến môi trường từ .env\n",
    "load_dotenv()\n",
    "\n",
    "# Lấy thông tin kết nối từ env\n",
    "DB_CONFIG = {\n",
    "    \"dbname\": os.getenv(\"DBDATABASE\") or os.getenv(\"POSTGRES_DB\"),\n",
    "    \"user\": os.getenv(\"DBUSER\") or os.getenv(\"POSTGRES_USER\"),\n",
    "    \"password\": os.getenv(\"DBPASSWORD\") or os.getenv(\"POSTGRES_PASSWORD\"),\n",
    "    \"host\": os.getenv(\"DBHOST\") or \"localhost\",\n",
    "    \"port\": os.getenv(\"DBPORT\") or 5432\n",
    "}\n",
    "\n",
    "def connect():\n",
    "    try:\n",
    "        conn = psycopg2.connect(**DB_CONFIG)\n",
    "        print(\"✅ Kết nối thành công đến PostgreSQL!\")\n",
    "        query = \"SELECT * FROM stocks limit 10;\"\n",
    "        cur = conn.cursor()\n",
    "        cur.execute(query)\n",
    "        rows = cur.fetchall()\n",
    "        print(\"📊 Dữ liệu từ bảng stocks:\", rows)\n",
    "        return conn\n",
    "    except Exception as e:\n",
    "        print(\"❌ Lỗi kết nối:\", e)\n",
    "        return None\n",
    "\n",
    "if __name__ == \"__main__\":\n",
    "    conn = connect()\n",
    "    if conn:\n",
    "        cur = conn.cursor()\n",
    "        cur.execute(\"SELECT version();\")\n",
    "        print(\"📦 PostgreSQL Version:\", cur.fetchone()[0])\n",
    "        cur.close()\n",
    "        conn.close()\n"
   ]
  },
  {
   "cell_type": "code",
   "execution_count": null,
   "id": "7c725f9c",
   "metadata": {},
   "outputs": [],
   "source": []
  }
 ],
 "metadata": {
  "kernelspec": {
   "display_name": ".venv",
   "language": "python",
   "name": "python3"
  },
  "language_info": {
   "codemirror_mode": {
    "name": "ipython",
    "version": 3
   },
   "file_extension": ".py",
   "mimetype": "text/x-python",
   "name": "python",
   "nbconvert_exporter": "python",
   "pygments_lexer": "ipython3",
   "version": "3.10.11"
  }
 },
 "nbformat": 4,
 "nbformat_minor": 5
}
