{
 "cells": [
  {
   "cell_type": "code",
   "execution_count": null,
   "id": "8f4eec0f",
   "metadata": {},
   "outputs": [
    {
     "name": "stdout",
     "output_type": "stream",
     "text": [
      "Collecting psycopg2\n",
      "  Downloading psycopg2-2.9.10-cp310-cp310-win_amd64.whl.metadata (5.0 kB)\n",
      "Downloading psycopg2-2.9.10-cp310-cp310-win_amd64.whl (1.2 MB)\n",
      "   ---------------------------------------- 0.0/1.2 MB ? eta -:--:--\n",
      "   ------------------------------------ --- 1.0/1.2 MB 10.1 MB/s eta 0:00:01\n",
      "   ---------------------------------------- 1.2/1.2 MB 9.6 MB/s eta 0:00:00\n",
      "Installing collected packages: psycopg2\n",
      "Successfully installed psycopg2-2.9.10\n"
     ]
    },
    {
     "name": "stderr",
     "output_type": "stream",
     "text": [
      "\n",
      "[notice] A new release of pip is available: 25.0.1 -> 25.1.1\n",
      "[notice] To update, run: python.exe -m pip install --upgrade pip\n"
     ]
    }
   ],
   "source": [
    "# !pip install psycopg2"
   ]
  },
  {
   "cell_type": "code",
   "execution_count": 7,
   "id": "4fb0465e",
   "metadata": {},
   "outputs": [
    {
     "name": "stdout",
     "output_type": "stream",
     "text": [
      "✅ Kết nối thành công đến PostgreSQL!\n",
      "📊 Dữ liệu từ bảng stocks: [('AAPL', 'Apple Inc.', 'Technology', 'Consumer Electronics', 'United States', 'https://www.apple.com', 3143825096704, 33.219048, 48.0, 260.1, 169.11, 'Apple Inc. designs, manufactures, and markets smartphones, personal computers, tablets, wearables, and accessories worldwide. The company offers iPhone, a line of smartphones; Mac, a line of personal computers; iPad, a line of multi-purpose tablets; and wearables, home, and accessories comprising AirPods, Apple TV, Apple Watch, Beats products, and HomePod. It also provides AppleCare support and cloud services; and operates various platforms, including the App Store that allow customers to discover and download applications and digital content, such as books, music, video, games, and podcasts, as well as advertising services include third-party licensing arrangements and its own advertising platforms. In addition, the company offers various subscription-based services, such as Apple Arcade, a game subscription service; Apple Fitness+, a personalized fitness service; Apple Music, which offers users a curated listening experience with on-demand radio stations; Apple News+, a subscription news and magazine service; Apple TV+, which offers exclusive original content; Apple Card, a co-branded credit card; and Apple Pay, a cashless payment service, as well as licenses its intellectual property. The company serves consumers, and small and mid-sized businesses; and the education, enterprise, and government markets. It distributes third-party applications for its products through the App Store. The company also sells its products through its retail and online stores, and direct sales force; and third-party cellular network carriers, wholesalers, retailers, and resellers. Apple Inc. was founded in 1976 and is headquartered in Cupertino, California.'), ('AMGN', 'Amgen Inc.', 'Healthcare', 'Drug Manufacturers - General', 'United States', 'https://www.amgen.com', 150868656128, 37.19735, 339.0, 346.85, 253.3, \"Amgen Inc. discovers, develops, manufactures, and delivers human therapeutics worldwide. The company's principal products include Enbrel for the treatment of rheumatoid arthritis, plaque psoriasis, and psoriatic arthritis; Otezla for the treatment of adult patients with plaque psoriasis, psoriatic arthritis, and oral ulcers associated with Behçet's disease; Prolia to treat postmenopausal women with osteoporosis; XGEVA for skeletal-related events prevention; Repatha, which reduces the risks of myocardial infarction, stroke, and coronary revascularization; Nplate for the treatment of patients with immune thrombocytopenia; KYPROLIS to treat patients with relapsed or refractory multiple myeloma; Aranesp to treat a lower-than-normal number of red blood cells and anemia; EVENITY for the treatment of osteoporosis in postmenopausal for men and women; Vectibix to treat patients with wild-type RAS metastatic colorectal cancer; BLINCYTO for the treatment of patients with acute lymphoblastic leukemia; TEPEZZA to treat thyroid eye disease; and KRYSTEXXA for the treatment of chronic refractory gout. It also markets other products, including Neulasta, MVASI, AMJEVITA/AMGEVITA, TEZSPIRE, Parsabiv, Aimovig, LUMAKRAS/LUMYKRAS, EPOGEN, KANJINTI, TAVNEOS, RAVICTI, UPLIZNA and PROCYSBI. The company serves healthcare providers, including physicians or their clinics, dialysis centers, hospitals, and pharmacies. It distributes its products through pharmaceutical wholesale distributors, as well as direct-to-consumer channels. The company has collaboration agreements with AstraZeneca plc for the development and commercialization of TEZSPIRE; Novartis Pharma AG to develop and commercialize Aimovig; UCB for the development and commercialization of EVENITY; Kyowa Kirin Co., Ltd. for rocatinlimab development and commercialization; and BeiGene, Ltd. for oncology products expansion and development. Amgen Inc. was incorporated in 1980 and is headquartered in Thousand Oaks, California.\"), ('AXP', 'American Express Company', 'Financial Services', 'Credit Services', 'United States', 'https://www.americanexpress.com', 187281309696, 18.479414, 124.0, 326.27, 220.43, \"American Express Company, together with its subsidiaries, operates as integrated payments company in the United States, Europe, the Middle East and Africa, the Asia Pacific, Australia, New Zealand, Latin America, Canada, the Caribbean, and Internationally. It operates through four segments: U.S. Consumer Services, Commercial Services, International Card Services, and Global Merchant and Network Services. The company's products and services include credit card, charge card, banking, and other payment and financing products; network services; expense management products and services; and travel and lifestyle services. It also provides merchant acquisition and processing, servicing and settlement, point-of-sale marketing, and information products and services for merchants; and fraud prevention services, as well as the design and operation of customer loyalty programs. In addition, the company leases and operates lounges at airports. Further, it designs and develops a software to manage company expenses. The company sells its products and services to consumers, small businesses, mid-sized companies, and large corporations through mobile and online applications, affiliate marketing, customer referral programs, third-party service providers and business partners, direct mail, telephone, in-house sales teams, telephone, and direct response advertising. American Express Company was founded in 1850 and is based in New York, New York.\"), ('BA', 'Boeing Company (The)', 'Industrials', 'Aerospace & Defense', 'United States', 'https://www.boeing.com', 134175367168, 0.0, 0.0, 196.95, 128.88, 'The Boeing Company, together with its subsidiaries, designs, develops, manufactures, sells, services, and supports commercial jetliners, military aircraft, satellites, missile defense, human space flight and launch systems, and services worldwide. The company operates through three segments: Commercial Airplanes; Defense, Space & Security; and Global Services. The Commercial Airplanes segment develops, produces, and markets commercial jet aircraft for passenger and cargo requirements. The Defense, Space & Security segment engages in the research, development, production, and modification of manned and unmanned military aircraft and weapons systems; strategic defense and intelligence systems, which include strategic missile and defense systems, command, control, communications, computers, intelligence, surveillance and reconnaissance, cyber and information solutions, and intelligence systems; and satellite systems, such as government and commercial satellites, and space exploration. The Global Services segment offers products and services, including supply chain and logistics management, engineering, maintenance and modifications, upgrades and conversions, spare parts, pilot and maintenance training systems and services, technical and maintenance documents, and data analytics and digital services to commercial and defense customers. The Boeing Company was incorporated in 1916 and is based in Arlington, Virginia.'), ('CAT', 'Caterpillar, Inc.', 'Industrials', 'Farm & Heavy Construction Machinery', 'United States', 'https://www.caterpillar.com', 146658099200, 13.89166, 184.0, 418.5, 267.3, \"Caterpillar Inc. manufactures and sells construction and mining equipment, off-highway diesel and natural gas engines, industrial gas turbines, and diesel-electric locomotives in the United States and internationally. Its Construction Industries segment offers asphalt pavers, cold planers, compactors, forestry machines, material handlers, motor graders, pipelayers, road reclaimers, telehandlers, track-type tractors, and track and wheel excavators; compact track, wheel, track-type, backhoe, and skid steer loaders; and related parts and tools. The company's Resource Industries segment provides electric rope and hydraulic shovels, draglines, rotary drills, hard rock vehicles, tractors, mining trucks, wheel loaders, off-highway and articulated trucks, wide-body trucks, wheel tractor scrapers and dozers, fleet management products, landfill and soil compactors, machinery components, autonomous ready vehicles and solutions, work tools, and safety services and mining performance solutions, as well as related parts and services. Its Energy & Transportation segment offers reciprocating engine powered generator sets; reciprocating engines, drivetrain, and integrated systems and solutions; turbines, centrifugal gas compressors, and related services; and diesel-electric locomotives and components, and other rail-related products. The company's Financial Products segment provides operating and finance leases, installment sale contracts, revolving charge accounts, repair/rebuild financing services, working capital loans, and wholesale financing; and insurance and risk management products and services. Its All Other segment offers wear and maintenance components; parts distribution; logistics solutions and distribution services; dealer portfolio management, and brand management and marketing strategy services; and digital investment services. Caterpillar Inc. was founded in 1925 and is headquartered in Irving, Texas.\"), ('CRM', 'Salesforce, Inc.', 'Technology', 'Software - Application', 'United States', 'https://www.salesforce.com', 257403863040, 42.181103, 62.0, 369.0, 212.0, 'Salesforce, Inc. provides customer relationship management (CRM) technology that connects companies and customers together worldwide. The company offers Agentforce, an agentic layer of the salesforce platform; Data Cloud; Industries AI; Salesforce Starter, a suite of solution for small and medium-size business; Slack, a workplace communication and productivity platform; Tableau, an end-to-end analytics solution for range of enterprise use cases and intelligent analytics with AI models, spot trends, predict outcomes, creates summaries, timely recommendations, and take action from any device; and MuleSoft, which provides building blocks to deliver end-to-end and connected experiences. It also provides marketing platform; commerce services, which empowers shopping experience across various customer touchpoint; and field service solution that enables companies to connect service agents, dispatchers, and mobile employees through one centralized platform to schedule and dispatch work, as well as track and manage jobs. Salesforce, Inc. was incorporated in 1999 and is headquartered in San Francisco, California.'), ('CSCO', 'Cisco Systems, Inc.', 'Technology', 'Communication Equipment', 'United States', 'https://www.cisco.com', 225608810496, 24.872807, 289.0, 66.5, 44.5, 'Cisco Systems, Inc. designs, manufactures, and sells Internet Protocol based networking and other products related to the communications and information technology industry in the Americas, Europe, the Middle East, Africa, the Asia Pacific, Japan, and China. The company also offers switching portfolio encompasses campus switching as well as data center switching; enterprise routing portfolio interconnects public and private wireline and mobile networks, delivering highly secure, and reliable connectivity to campus, data center and branch networks; and wireless products include indoor and outdoor wireless coverage designed for seamless roaming use of voice, video, and data applications. In addition, it provides security, which comprising network security, identity and access management, secure access service edge, and threat intelligence, detection, and response offerings; collaboration products, such as Webex Suite, collaboration devices, contact center, and communication platform as a service; end-to-end collaboration solutions that can be delivered from the cloud, on-premise or within hybrid cloud environments allowing customers to transition their collaboration solutions from on-premise to the cloud; and observability offers network assurance, monitoring and analytics and observability suite. Further, the company offers a range of service and support options for its customers, including technical support and advanced services and advisory services. It serves businesses of various sizes, public institutions, governments, and service providers. The company sells its products and services directly, as well as through systems integrators, service providers, other resellers, and distributors. Cisco Systems, Inc. has strategic alliances with other companies. Cisco Systems, Inc. was incorporated in 1984 and is headquartered in San Jose, California.'), ('CVX', 'Chevron Corporation', 'Energy', 'Oil & Gas Integrated', 'United States', 'https://www.chevron.com', 242916229120, 14.272633, 493.0, 168.96, 132.04, 'Chevron Corporation, through its subsidiaries, engages in the integrated energy and chemicals operations in the United States and internationally. The company operates in two segments, Upstream and Downstream. The Upstream segment engages in the exploration, development, production, and transportation of crude oil and natural gas; liquefaction, transportation, and regasification of liquefied natural gas; transporting crude oil through pipelines; processing, transporting, storage, and marketing of natural gas; and carbon capture and storage, as well as a gas-to-liquids plant. The Downstream segment refines crude oil into petroleum products; markets crude oil, refined products, and lubricants; manufactures and markets renewable fuels; transports crude oil and refined products through pipeline, marine vessel, motor equipment, and rail car; and manufactures and markets commodity petrochemicals, plastics for industrial uses, and fuel and lubricant additives. The company was formerly known as ChevronTexaco Corporation and changed its name to Chevron Corporation in 2005. Chevron Corporation was founded in 1879 and is headquartered in Houston, Texas.'), ('DIS', 'Walt Disney Company (The)', 'Communication Services', 'Entertainment', 'United States', 'https://thewaltdisneycompany.com', 163207282688, 29.31169, 111.0, 118.63, 80.1, 'The Walt Disney Company operates as an entertainment company worldwide. It operates through three segments: Entertainment, Sports, and Experiences. The company produces and distributes film and television content under the ABC Television Network, Disney, Freeform, FX, Fox, National Geographic, and Star brand television channels, as well as ABC television stations and A+E television networks; and produces original content under the Disney Branded Television, FX Productions, Lucasfilm, Marvel, National Geographic Studios, Pixar, Searchlight Pictures, Twentieth Century Studios, 20th Television, and Walt Disney Pictures banners. It also offers direct-to-consumer streaming services through Disney+, Disney+ Hotstar, and Hulu; sports-related video streaming content through ESPN, ESPN on ABC, ESPN+ DTC, and Star; sale/licensing of film and episodic content to television and video-on-demand services; theatrical, home entertainment, and music distribution services; DVD and Blu-ray discs, electronic home video licenses, and VOD rental services; staging and licensing of live entertainment events; and post-production services. In addition, the company operates theme parks and resorts comprising Walt Disney World Resort, Disneyland Resort, Disneyland Paris, Hong Kong Disneyland Resort, Shanghai Disney Resort, Disney Cruise Line, Disney Vacation Club, National Geographic Expeditions, and Adventures by Disney, as well as Aulani, a Disney resort and spa in Hawaii. Further, it licenses its intellectual property (IP) to a third party that owns and operates Tokyo Disney Resort; licenses trade names, characters, visual, literary, and other IP for use on merchandise, published materials, and games; operates a direct-to-home satellite distribution platform; sells branded merchandise through retail, online, and wholesale businesses; and develops and publishes books, comic books, and magazines. The Walt Disney Company was founded in 1923 and is based in Burbank, California.'), ('DOW', 'Dow Inc.', 'Basic Materials', 'Chemicals', 'United States', 'https://www.dow.com', 21219997696, 75.05, 933.0, 60.19, 25.06, 'Dow Inc., through its subsidiaries, provides various materials science solutions for packaging, infrastructure, mobility, and consumer applications in the United States, Canada, Europe, the Middle East, Africa, India, the Asia Pacific, and Latin America. The company operates through Packaging & Specialty Plastics, Industrial Intermediates & Infrastructure, and Performance Materials & Coatings segments. The Packaging & Specialty Plastics segment provides ethylene, propylene, polyethylene, and aromatics products; and other ethylene derivatives, such as polyolefin elastomers, ethylene vinyl acetate, and ethylene propylene diene monomer rubber. The Industrial Intermediates & Infrastructure segment offers polyurethanes, including propylene oxide, propylene glycol, and polyether polyols; aromatic isocyanates and fully formulated polyurethane systems; and chlor-alkali and vinyl comprising chlorine and caustic soda, ethylene dichloride, and vinyl chloride monomer; and construction chemicals consisting of cellulose ethers, redispersible latex powders, and acrylic emulsions, as well as coatings, adhesives, sealants, elastomers, and composites. The Performance Materials & Coatings segment provides architectural paints and coatings, and industrial coatings; and acrylics-based building blocks, silicon metals, siloxanes, and intermediates. The company also engages in the property and casualty insurance, as well as reinsurance business. Dow Inc. was founded in 1897 and is headquartered in Midland, Michigan.')]\n",
      "📦 PostgreSQL Version: PostgreSQL 15.8 on aarch64-unknown-linux-gnu, compiled by gcc (GCC) 13.2.0, 64-bit\n"
     ]
    }
   ],
   "source": [
    "import psycopg2\n",
    "import os\n",
    "from dotenv import load_dotenv\n",
    "\n",
    "# Load biến môi trường từ .env\n",
    "load_dotenv()\n",
    "\n",
    "# Lấy thông tin kết nối từ env\n",
    "DB_CONFIG = {\n",
    "    \"dbname\": os.getenv(\"DBDATABASE\") or os.getenv(\"POSTGRES_DB\"),\n",
    "    \"user\": os.getenv(\"DBUSER\") or os.getenv(\"POSTGRES_USER\"),\n",
    "    \"password\": os.getenv(\"DBPASSWORD\") or os.getenv(\"POSTGRES_PASSWORD\"),\n",
    "    \"host\": os.getenv(\"DBHOST\") or \"localhost\",\n",
    "    \"port\": os.getenv(\"DBPORT\") or 5432\n",
    "}\n",
    "\n",
    "def connect():\n",
    "    try:\n",
    "        conn = psycopg2.connect(**DB_CONFIG)\n",
    "        print(\"✅ Kết nối thành công đến PostgreSQL!\")\n",
    "        query = \"SELECT * FROM djia_companies limit 10;\"\n",
    "        cur = conn.cursor()\n",
    "        cur.execute(query)\n",
    "        rows = cur.fetchall()\n",
    "        print(\"📊 Dữ liệu từ bảng stocks:\", rows)\n",
    "        return conn\n",
    "    except Exception as e:\n",
    "        print(\"❌ Lỗi kết nối:\", e)\n",
    "        return None\n",
    "\n",
    "if __name__ == \"__main__\":\n",
    "    conn = connect()\n",
    "    if conn:\n",
    "        cur = conn.cursor()\n",
    "        cur.execute(\"SELECT version();\")\n",
    "        print(\"📦 PostgreSQL Version:\", cur.fetchone()[0])\n",
    "        cur.close()\n",
    "        conn.close()\n"
   ]
  },
  {
   "cell_type": "code",
   "execution_count": null,
   "id": "7c725f9c",
   "metadata": {},
   "outputs": [],
   "source": []
  }
 ],
 "metadata": {
  "kernelspec": {
   "display_name": "Python 3",
   "language": "python",
   "name": "python3"
  },
  "language_info": {
   "codemirror_mode": {
    "name": "ipython",
    "version": 3
   },
   "file_extension": ".py",
   "mimetype": "text/x-python",
   "name": "python",
   "nbconvert_exporter": "python",
   "pygments_lexer": "ipython3",
   "version": "3.10.11"
  }
 },
 "nbformat": 4,
 "nbformat_minor": 5
}
