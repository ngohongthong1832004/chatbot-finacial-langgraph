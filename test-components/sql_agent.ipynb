{
 "cells": [
  {
   "cell_type": "code",
   "execution_count": null,
   "id": "db4bad8a",
   "metadata": {},
   "outputs": [
    {
     "name": "stdout",
     "output_type": "stream",
     "text": [
      "❌ Lỗi kết nối cơ sở dữ liệu: connection to server at \"aws-0-ap-southeast-1.pooler.supabase.com\" (52.77.146.31), port 5432 failed: SSL connection has been closed unexpectedly\n",
      "\n"
     ]
    }
   ],
   "source": [
    "import os\n",
    "import re\n",
    "import json\n",
    "import yaml\n",
    "import pandas as pd\n",
    "import psycopg2\n",
    "from openai import OpenAI\n",
    "from dotenv import load_dotenv\n",
    "\n",
    "# Load .env\n",
    "load_dotenv()\n",
    "\n",
    "# Lấy thông tin kết nối từ biến môi trường\n",
    "DB_CONFIG = {\n",
    "    \"dbname\": os.getenv(\"DBNAME\") or os.getenv(\"POSTGRES_DB\"),\n",
    "    \"user\": os.getenv(\"DBUSER\") or os.getenv(\"POSTGRES_USER\"),\n",
    "    \"password\": os.getenv(\"DBPASSWORD\") or os.getenv(\"POSTGRES_PASSWORD\"),\n",
    "    \"host\": os.getenv(\"DBHOST\") or \"localhost\",\n",
    "    \"port\": int(os.getenv(\"DBPORT\", 5432)),\n",
    "    \"sslmode\": os.getenv(\"SSL_MODE\", \"require\")\n",
    "}\n",
    "\n",
    "# Thiết lập OpenAI API\n",
    "client = OpenAI(api_key=os.getenv(\"OPENAI_API_KEY\"))\n",
    "\n",
    "def connect_to_database():\n",
    "    try:\n",
    "        conn = psycopg2.connect(**DB_CONFIG)\n",
    "        print(\"✅ Kết nối thành công đến PostgreSQL.\")\n",
    "        return conn\n",
    "    except Exception as e:\n",
    "        print(f\"❌ Lỗi kết nối cơ sở dữ liệu: {e}\")\n",
    "        return None\n",
    "\n",
    "def get_schema_and_samples(conn):\n",
    "    try:\n",
    "        cursor = conn.cursor()\n",
    "        cursor.execute(\"SELECT table_name FROM information_schema.tables WHERE table_schema='public';\")\n",
    "        tables = cursor.fetchall()\n",
    "        schema_info = {}\n",
    "        for (table,) in tables:\n",
    "            cursor.execute(f\"SELECT column_name, data_type FROM information_schema.columns WHERE table_name = '{table}';\")\n",
    "            schema_info[table] = [{\"column_name\": col, \"data_type\": dtype} for col, dtype in cursor.fetchall()]\n",
    "            cursor.execute(f\"SELECT * FROM {table} LIMIT 3;\")\n",
    "            sample_rows = cursor.fetchall()\n",
    "            colnames = [desc[0] for desc in cursor.description]\n",
    "            schema_info[f\"{table}_samples\"] = [dict(zip(colnames, row)) for row in sample_rows]\n",
    "        cursor.close()\n",
    "        return schema_info\n",
    "    except Exception as e:\n",
    "        return {\"error\": str(e)}\n",
    "\n",
    "def load_metadata():\n",
    "    try:\n",
    "        with open(\"metadata.yml\", \"r\") as file:\n",
    "            return yaml.safe_load(file)\n",
    "    except FileNotFoundError:\n",
    "        return {}\n",
    "\n",
    "def generate_sql_query(user_question, schema_info=None):\n",
    "    prompt = f\"\"\"\n",
    "You are a PostgreSQL expert working with a single table called `stocks`.\n",
    "\n",
    "This table contains daily stock information with the following columns:\n",
    "\n",
    "- Date: Date of the record (format: YYYY-MM-DD)\n",
    "- Price: The closing price of the stock on that date (FLOAT)\n",
    "- Open: The opening price of the stock on that date (FLOAT)\n",
    "- High: The highest price of the stock on that date (FLOAT)\n",
    "- Low: The lowest price of the stock on that date (FLOAT)\n",
    "- Vol.: Trading volume (format: float + 'M' suffix for millions)\n",
    "- Change %: Daily percentage change in stock price (can be positive or negative)\n",
    "\n",
    "Assume this table is already in a PostgreSQL database as `stocks`.\n",
    "\n",
    "User Question:\n",
    "{user_question}\n",
    "\n",
    "Write a correct and optimized PostgreSQL query to answer this question. \n",
    "Do not explain or wrap the query in markdown. Just return raw SQL.\n",
    "    \"\"\"\n",
    "\n",
    "    try:\n",
    "        response = client.chat.completions.create(\n",
    "            model=\"gpt-4\",\n",
    "            messages=[{\"role\": \"user\", \"content\": prompt}]\n",
    "        )\n",
    "        sql_query = response.choices[0].message.content\n",
    "        sql_query = re.sub(r'^```sql', '', sql_query).strip('` \\n')\n",
    "        return sql_query\n",
    "    except Exception as e:\n",
    "        print(f\"❌ Lỗi sinh SQL: {e}\")\n",
    "        return None\n",
    "\n",
    "def execute_sql_query(conn, query):\n",
    "    try:\n",
    "        df = pd.read_sql(query, conn)\n",
    "        return df\n",
    "    except Exception as e:\n",
    "        print(f\"❌ Lỗi thực thi SQL: {e}\")\n",
    "        return None\n",
    "    \n",
    "def run_chat(question: str):\n",
    "    conn = connect_to_database()\n",
    "    if conn is None:\n",
    "        return\n",
    "\n",
    "    schema_info = get_schema_and_samples(conn)\n",
    "    sql_query = generate_sql_query(question, schema_info)\n",
    "\n",
    "    if not sql_query:\n",
    "        print(\"⚠️ Không thể sinh truy vấn SQL.\")\n",
    "        return\n",
    "\n",
    "    print(f\"\\n🧠 SQL sinh ra:\\n{sql_query}\")\n",
    "    results = execute_sql_query(conn, sql_query)\n",
    "\n",
    "    if results is None:\n",
    "        print(\"⚠️ Truy vấn lỗi.\")\n",
    "        return\n",
    "\n",
    "    print(\"\\n📊 Dữ liệu:\")\n",
    "    print(results.head(5))\n",
    "\n",
    "    conn.close()\n",
    "\n",
    "# Thực thi khi chạy file\n",
    "if __name__ == \"__main__\":\n",
    "    question = \"Lấy 10 dòng đâu tiên của bảng stocks.\"\n",
    "    run_chat(question)\n"
   ]
  },
  {
   "cell_type": "code",
   "execution_count": 14,
   "id": "8ec7cb73",
   "metadata": {},
   "outputs": [
    {
     "name": "stdout",
     "output_type": "stream",
     "text": [
      "✅ Kết nối thành công đến PostgreSQL.\n",
      "\n",
      "🧠 SQL sinh ra:\n",
      "SELECT *\n",
      "FROM stocks\n",
      "WHERE Date BETWEEN '2023-01-01' AND '2024-01-10';\n",
      "\n",
      "📊 Dữ liệu:\n",
      "         date   price    open    high     low     vol change_percent\n",
      "0  2024-01-10  186.19  184.35  186.40  183.92  45.90M          0.57%\n",
      "1  2024-01-09  185.14  183.92  185.15  182.73  42.84M         -0.23%\n",
      "2  2024-01-08  185.56  182.09  185.60  181.50  59.14M          2.42%\n",
      "3  2024-01-05  181.18  181.99  182.76  180.17  62.38M         -0.40%\n",
      "4  2024-01-04  181.91  182.15  183.09  180.88  70.70M         -1.27%\n"
     ]
    },
    {
     "name": "stderr",
     "output_type": "stream",
     "text": [
      "C:\\Users\\thong\\AppData\\Local\\Temp\\ipykernel_22992\\2190399169.py:97: UserWarning: pandas only supports SQLAlchemy connectable (engine/connection) or database string URI or sqlite3 DBAPI2 connection. Other DBAPI2 objects are not tested. Please consider using SQLAlchemy.\n",
      "  df = pd.read_sql(query, conn)\n"
     ]
    },
    {
     "name": "stdout",
     "output_type": "stream",
     "text": [
      "\n",
      "💡 Trả lời từ AI:\n",
      "❌ Lỗi sinh câu trả lời: Error code: 400 - {'error': {'message': \"This model's maximum context length is 8192 tokens. However, your messages resulted in 8792 tokens. Please reduce the length of the messages.\", 'type': 'invalid_request_error', 'param': 'messages', 'code': 'context_length_exceeded'}}\n"
     ]
    }
   ],
   "source": [
    "question = \"Lấy dữ liệu ngày 2023-01-01 đến 2024-01-10.\"\n",
    "run_chat(question)"
   ]
  },
  {
   "cell_type": "code",
   "execution_count": 15,
   "id": "be3f86d8",
   "metadata": {},
   "outputs": [
    {
     "name": "stdout",
     "output_type": "stream",
     "text": [
      "✅ Kết nối thành công đến PostgreSQL.\n",
      "\n",
      "🧠 SQL sinh ra:\n",
      "SELECT SUM(Price) \n",
      "FROM stocks \n",
      "WHERE Date BETWEEN '2023-01-01' AND '2024-01-10';\n",
      "\n",
      "📊 Dữ liệu:\n",
      "       sum\n",
      "0  44427.1\n"
     ]
    },
    {
     "name": "stderr",
     "output_type": "stream",
     "text": [
      "C:\\Users\\thong\\AppData\\Local\\Temp\\ipykernel_22992\\2190399169.py:97: UserWarning: pandas only supports SQLAlchemy connectable (engine/connection) or database string URI or sqlite3 DBAPI2 connection. Other DBAPI2 objects are not tested. Please consider using SQLAlchemy.\n",
      "  df = pd.read_sql(query, conn)\n"
     ]
    },
    {
     "name": "stdout",
     "output_type": "stream",
     "text": [
      "\n",
      "💡 Trả lời từ AI:\n",
      "The total closing data from January 1, 2023 to January 10, 2024 is 44,427.1.\n"
     ]
    }
   ],
   "source": [
    "question = \"Tổng dữ liệu đóng cửa ngày 2023-01-01 đến 2024-01-10.\"\n",
    "run_chat(question)"
   ]
  },
  {
   "cell_type": "code",
   "execution_count": 16,
   "id": "e371aa1f",
   "metadata": {},
   "outputs": [
    {
     "name": "stdout",
     "output_type": "stream",
     "text": [
      "✅ Kết nối thành công đến PostgreSQL.\n",
      "\n",
      "🧠 SQL sinh ra:\n",
      "SELECT SUM(Price) / 2 \n",
      "FROM stocks \n",
      "WHERE Date BETWEEN '2023-01-01' AND '2024-01-10';\n",
      "\n",
      "📊 Dữ liệu:\n",
      "   ?column?\n",
      "0  22213.55\n"
     ]
    },
    {
     "name": "stderr",
     "output_type": "stream",
     "text": [
      "C:\\Users\\thong\\AppData\\Local\\Temp\\ipykernel_22992\\2190399169.py:97: UserWarning: pandas only supports SQLAlchemy connectable (engine/connection) or database string URI or sqlite3 DBAPI2 connection. Other DBAPI2 objects are not tested. Please consider using SQLAlchemy.\n",
      "  df = pd.read_sql(query, conn)\n"
     ]
    },
    {
     "name": "stdout",
     "output_type": "stream",
     "text": [
      "\n",
      "💡 Trả lời từ AI:\n",
      "The total closing data from January 1, 2023 to January 10, 2024 is 22213.55. When this value is divided by 2, it will yield the final result.\n"
     ]
    }
   ],
   "source": [
    "question = \"Tổng dữ liệu đóng cửa ngày 2023-01-01 đến 2024-01-10. sau đó lấy giá trị đó chia cho 2.\"\n",
    "run_chat(question)"
   ]
  },
  {
   "cell_type": "code",
   "execution_count": null,
   "id": "61540b3f",
   "metadata": {},
   "outputs": [],
   "source": []
  }
 ],
 "metadata": {
  "kernelspec": {
   "display_name": ".venv",
   "language": "python",
   "name": "python3"
  },
  "language_info": {
   "codemirror_mode": {
    "name": "ipython",
    "version": 3
   },
   "file_extension": ".py",
   "mimetype": "text/x-python",
   "name": "python",
   "nbconvert_exporter": "python",
   "pygments_lexer": "ipython3",
   "version": "3.10.11"
  }
 },
 "nbformat": 4,
 "nbformat_minor": 5
}
